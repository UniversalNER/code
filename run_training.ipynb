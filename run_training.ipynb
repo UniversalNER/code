{
 "cells": [
  {
   "cell_type": "code",
   "execution_count": null,
   "metadata": {},
   "outputs": [],
   "source": [
    "# -r because we always want to get the newest version of the file\n",
    "!wget -r https://raw.githubusercontent.com/UniversalNER/uner_code/master/requirements.txt\n",
    "!wget -r https://raw.githubusercontent.com/UniversalNER/uner_code/master/prepare_data.py\n",
    "!wget -r https://raw.githubusercontent.com/UniversalNER/uner_code/master/train_uner.py\n",
    "!pip install -r requirements.txt\n",
    "\n",
    "import os\n",
    "os.environ[\"GITHUB_TOKEN\"] = \"this is a secret\"\n",
    "from train_uner import *"
   ]
  },
  {
   "cell_type": "code",
   "execution_count": null,
   "metadata": {},
   "outputs": [],
   "source": [
    "cfg = UNERConfig()\n",
    "cfg.dev = False\n",
    "trainer = UNERTrainer(cfg)\n",
    "trainer.train()\n",
    "trainer.evaluate()"
   ]
  }
 ],
 "metadata": {
  "language_info": {
   "name": "python"
  },
  "orig_nbformat": 4
 },
 "nbformat": 4,
 "nbformat_minor": 2
}
